{
 "cells": [
  {
   "cell_type": "markdown",
   "metadata": {
    "id": "5TG6k1-ZzH5j"
   },
   "source": [
    "# Code I\n",
    "\n",
    "**Original \\$x\\_{t-1}\\$ loss**\n",
    "  $\\mathbb{E}\\Bigl[\\|\\tilde\\mu_t(X_t,X_0)-\\mu(X_t,t;\\theta)\\|^2/(2(1-\\alpha_t))\\Bigr]$"
   ]
  },
  {
   "cell_type": "markdown",
   "metadata": {
    "id": "oqAMmsR9gB7e"
   },
   "source": [
    "## (1) Network Architecture, this code provides a network $F(x,t;\\theta)$ to compute $\\mu(x,t;\\theta)$ = $\\rho_0(x-\\rho_1(F(x,t;\\theta)))$"
   ]
  },
  {
   "cell_type": "markdown",
   "metadata": {
    "id": "4AI6fIpqef0L"
   },
   "source": [
    "---\n",
    "\n",
    "This network implements a time-conditioned U-Net that, given a noisy image x_t and a continuous time index t, produces the model’s estimate μθ(x_t, t) of the “denoised” image at the previous timestep.\n",
    "\n",
    " 1) Time embedding (Gaussian Fourier features → linear → Swish):\n",
    "\n",
    "    - Encodes the scalar t into a high-dim vector, so every layer can know which noise level it’s operating at.\n",
    "\n",
    " 2) Down-path (Encoder):\n",
    "    \n",
    "    - conv1 → group-norm → Swish\n",
    "    - conv2 (stride-2) → norm → Swish\n",
    "    - conv3 (stride-2) → norm → Swish\n",
    "    - conv4 (stride-2) → norm → Swish\n",
    "    At each block: we add a learned affine shift via Dense(embed)) so that the\n",
    "    feature maps are modulated by the noise level t.\n",
    "\n",
    " 3) Up-path (Decoder with skip-connections):\n",
    "     \n",
    "    - tconv4 (upsample) → add time-embed → norm → Swish\n",
    "    - tconv3 on [current, encoder-h3] → add time-embed → norm → Swish\n",
    "    - tconv2 on [current, encoder-h2] → add time-embed → norm → Swish\n",
    "    - tconv1 on [current, encoder-h1]               → final output\n",
    "\n",
    " 4) Output: a single-channel map of the same H×W, which can be transformed to μθ(x_t, t) in problem 2 with $\\rho_1$ and $\\rho_2$. During training this is compared to the true  $x_{t−1}$ sampled from q.\n",
    "\n",
    " By conditioning every convolutional block on t, the network learns a continuum of denoising functions that smoothly vary with the noise scale.\n",
    "\n",
    "---"
   ]
  },
  {
   "cell_type": "code",
   "execution_count": 28,
   "metadata": {
    "id": "YyQtV7155Nht"
   },
   "outputs": [],
   "source": [
    "import torch\n",
    "import torch.nn as nn\n",
    "import torch.optim as optim\n",
    "import numpy as np\n",
    "from torch.utils.data import DataLoader, TensorDataset\n",
    "import matplotlib.pyplot as plt\n",
    "import os\n",
    "\n",
    "class GaussianFourierProjection(nn.Module):\n",
    "  \"\"\"Gaussian random features for encoding time steps.\"\"\"\n",
    "  def __init__(self, embed_dim, scale=30.):\n",
    "    super().__init__()\n",
    "    # Randomly sample weights during initialization. These weights are fixed\n",
    "    # during optimization and are not trainable.\n",
    "    self.W = nn.Parameter(torch.randn(embed_dim // 2) * scale, requires_grad=False)\n",
    "  def forward(self, x):\n",
    "    x_proj = x * self.W * 2 * np.pi\n",
    "    return torch.cat([torch.sin(x_proj), torch.cos(x_proj)], dim=-1)\n",
    "\n",
    "\n",
    "class Dense(nn.Module):\n",
    "  \"\"\"A fully connected layer that reshapes outputs to feature maps.\"\"\"\n",
    "  def __init__(self, input_dim, output_dim):\n",
    "    super().__init__()\n",
    "    self.dense = nn.Linear(input_dim, output_dim)\n",
    "  def forward(self, x):\n",
    "    return self.dense(x)[..., None, None]\n",
    "\n",
    "class ScoreNet_channel_reduc(nn.Module):\n",
    "  \"\"\"A time-dependent score-based model built upon U-Net architecture.\"\"\"\n",
    "\n",
    "  def __init__(self, channels=[16, 32, 64, 128], embed_dim=256, group_num=4):\n",
    "\n",
    "    super().__init__()\n",
    "\n",
    "    self.embed = nn.Sequential(GaussianFourierProjection(embed_dim=embed_dim),\n",
    "         nn.Linear(embed_dim, embed_dim))\n",
    "\n",
    "    self.conv1 = nn.Conv2d(1, channels[0], 3, stride=1, bias=False)\n",
    "    self.dense1 = Dense(embed_dim, channels[0])\n",
    "    self.gnorm1 = nn.GroupNorm(group_num, num_channels=channels[0])\n",
    "    self.conv2 = nn.Conv2d(channels[0], channels[1], 3, stride=2, bias=False)\n",
    "    self.dense2 = Dense(embed_dim, channels[1])\n",
    "    self.gnorm2 = nn.GroupNorm(group_num, num_channels=channels[1])\n",
    "    self.conv3 = nn.Conv2d(channels[1], channels[2], 3, stride=2, bias=False)\n",
    "    self.dense3 = Dense(embed_dim, channels[2])\n",
    "    self.gnorm3 = nn.GroupNorm(group_num, num_channels=channels[2])\n",
    "    self.conv4 = nn.Conv2d(channels[2], channels[3], 3, stride=2, bias=False)\n",
    "    self.dense4 = Dense(embed_dim, channels[3])\n",
    "    self.gnorm4 = nn.GroupNorm(group_num, num_channels=channels[3])\n",
    "\n",
    "    self.tconv4 = nn.ConvTranspose2d(channels[3], channels[2], 3, stride=2, bias=False)\n",
    "    self.dense5 = Dense(embed_dim, channels[2])\n",
    "    self.tgnorm4 = nn.GroupNorm(group_num, num_channels=channels[2])\n",
    "    self.tconv3 = nn.ConvTranspose2d(channels[2] + channels[2], channels[1], 3, stride=2, bias=False, output_padding=1)\n",
    "    self.dense6 = Dense(embed_dim, channels[1])\n",
    "    self.tgnorm3 = nn.GroupNorm(group_num, num_channels=channels[1])\n",
    "    self.tconv2 = nn.ConvTranspose2d(channels[1] + channels[1], channels[0], 3, stride=2, bias=False, output_padding=1)\n",
    "    self.dense7 = Dense(embed_dim, channels[0])\n",
    "    self.tgnorm2 = nn.GroupNorm(group_num, num_channels=channels[0])\n",
    "    self.tconv1 = nn.ConvTranspose2d(channels[0] + channels[0], 1, 3, stride=1)\n",
    "    # Scalars ρ0 and ρ1 to learn\n",
    "    self.rho0 = nn.Parameter(torch.ones(1))\n",
    "    self.rho1 = nn.Parameter(torch.ones(1))\n",
    "    # The swish activation function\n",
    "    self.act = lambda x: x * torch.sigmoid(x)\n",
    "\n",
    "  def forward(self, x, t):\n",
    "    # Obtain the Gaussian random feature embedding for t\n",
    "    embed = self.act(self.embed(t))\n",
    "\n",
    "    h1 = self.conv1(x) # ...\n",
    "    h1 += self.dense1(embed) #...\n",
    "    h1 = self.gnorm1(h1) # ...\n",
    "    h1 = self.act(h1) # ...\n",
    "    h2 = self.conv2(h1) # ...\n",
    "    h2 += self.dense2(embed)\n",
    "    h2 = self.gnorm2(h2)\n",
    "    h2 = self.act(h2)\n",
    "    h3 = self.conv3(h2)\n",
    "    h3 += self.dense3(embed)\n",
    "    h3 = self.gnorm3(h3)\n",
    "    h3 = self.act(h3)\n",
    "    h4 = self.conv4(h3)\n",
    "    h4 += self.dense4(embed)\n",
    "    h4 = self.gnorm4(h4)\n",
    "    h4 = self.act(h4)\n",
    "\n",
    "    h = self.tconv4(h4) # ...\n",
    "    h += self.dense5(embed) # ...\n",
    "    h = self.tgnorm4(h)\n",
    "    h = self.act(h)\n",
    "    h = self.tconv3(torch.cat([h, h3], dim=1)) # ...\n",
    "    h += self.dense6(embed)\n",
    "    h = self.tgnorm3(h)\n",
    "    h = self.act(h)\n",
    "    h = self.tconv2(torch.cat([h, h2], dim=1))\n",
    "    h += self.dense7(embed)\n",
    "    h = self.tgnorm2(h)\n",
    "    h = self.act(h)\n",
    "    h = self.tconv1(torch.cat([h, h1], dim=1))\n",
    "\n",
    "    # compute the actual mean μ(x,t;θ) = ρ0 * (x - ρ1 * F(x,t;θ))\n",
    "    mu_xt = self.rho0 * (x - self.rho1 * h)\n",
    "    return mu_xt, h"
   ]
  },
  {
   "cell_type": "code",
   "execution_count": null,
   "metadata": {
    "id": "Xy1hnEmqpSh1"
   },
   "outputs": [],
   "source": []
  },
  {
   "cell_type": "code",
   "execution_count": null,
   "metadata": {
    "id": "Ot03XBWspSXs"
   },
   "outputs": [],
   "source": []
  },
  {
   "cell_type": "markdown",
   "metadata": {
    "id": "glKc66ufzDKf"
   },
   "source": [
    "## (2) A diffusion class that stores $\\beta_t$, $\\alpha_t$, $\\bar{\\alpha}_t$ and has a function to sample $x_{t-1}$, $x_{t}$ given $x_0$, one that predict the mean $\\mu(x_t,t,\\theta)$"
   ]
  },
  {
   "cell_type": "code",
   "execution_count": 2,
   "metadata": {
    "id": "MWp8ar4DpSF2"
   },
   "outputs": [],
   "source": [
    "class Diffusion(nn.Module):\n",
    "    def __init__(self, model, n_steps, device, min_beta=1e-4, max_beta=0.1):\n",
    "        super().__init__()\n",
    "        self.model = model\n",
    "        self.n_steps = n_steps\n",
    "        self.device = device\n",
    "\n",
    "        # linear beta schedule β₁…β_T\n",
    "        self.betas = torch.linspace(min_beta, max_beta, n_steps, device=device)\n",
    "        # α_t = 1 − β_t\n",
    "        self.alphas = 1.0 - self.betas\n",
    "        # \\barα_t = ∏_{s=1}^t α_s\n",
    "        self.alpha_bar = torch.cumprod(self.alphas, dim=0)\n",
    "\n",
    "    def forward_process(self, x0, t):\n",
    "        \"\"\"\n",
    "        Given x0 and integer timestep t (1 ≤ t < n_steps),\n",
    "        returns (x_{t-1}, x_t) ~ q(x_{t-1}, x_t | x0).\n",
    "        \"\"\"\n",
    "        # grab scalars for this batch\n",
    "        # abar_t   = self.alpha_bar[t    ].view(-1, *([1] * (x0.ndim-1)))\n",
    "        abar_t_1 = self.alpha_bar[t - 1].view(-1, *([1] * (x0.ndim-1)))\n",
    "        alpha_t = self.alphas[t].view(-1, *([1] * (x0.ndim-1)))\n",
    "\n",
    "        noise_t   = torch.randn_like(x0)\n",
    "        noise_tm1 = torch.randn_like(x0)\n",
    "\n",
    "        #x_t   = torch.sqrt(abar_t)   * x0 + torch.sqrt(1 - abar_t)   * noise_t\n",
    "        x_tm1 = torch.sqrt(abar_t_1) * x0 + torch.sqrt(1 - abar_t_1) * noise_tm1\n",
    "        x_t   = torch.sqrt(alpha_t) * x_tm1 + torch.sqrt(1 - alpha_t) * noise_t\n",
    "        return x_tm1, x_t\n",
    "\n",
    "    def predict_next(self, xt, t):\n",
    "        \"\"\"\n",
    "        Given a noisy xt at timestep t, use the learned model to\n",
    "        predict the reverse‐mean μ(xt,t;θ).\n",
    "        \"\"\"\n",
    "        # assume model(xt, t) returns μ directly\n",
    "        mu_xt = self.model(xt, t)\n",
    "        return mu_xt\n"
   ]
  },
  {
   "cell_type": "markdown",
   "metadata": {
    "id": "90kuCpATWs5E"
   },
   "source": [
    "## (3) Loss function for diffusion model"
   ]
  },
  {
   "cell_type": "markdown",
   "metadata": {
    "id": "hcKk0ATfK1tY"
   },
   "source": [
    "---\n",
    "When training a diffusion model, we need to approximate the expectation over random timesteps\n",
    "$$\n",
    "\\mathbb{E}_{t\\sim\\text{Uniform}\\{1,\\dots,T-1\\}}\n",
    "\\bigl[\\ell(X_t, X_{t-1};\\theta)\\bigr],\n",
    "$$\n",
    "where for a single draw $t_j$ the per-example loss is\n",
    "$$\n",
    "\\ell_j\n",
    "=\n",
    "\\frac{\\|X_{t_j-1} - \\mu(X_{t_j},t_j;\\theta)\\|^2}\n",
    "     {2\\,(1-\\alpha_{t_j})}\\,.\n",
    "$$\n",
    "Using only one sample $t_j$ gives a Monte Carlo estimator with variance $\\mathrm{Var}(\\ell_j)$.  To reduce this variance by a factor of \\(K\\), we can draw \\(K\\) independent timesteps per example:\n",
    "$$\n",
    "t_{j,1},\\,t_{j,2},\\,\\dots,\\,t_{j,K}\n",
    "\\;\\overset{\\mathrm{i.i.d.}}{\\sim}\\;\n",
    "\\mathrm{Uniform}\\{1,\\dots,T-1\\}.\n",
    "$$\n",
    "For each $k=1,\\dots,K$ compute the corresponding noise pair $(X_{t_{j,k}-1},X_{t_{j,k}})$ and loss\n",
    "$$\n",
    "\\ell_{j,k}\n",
    "=\n",
    "\\frac{\\bigl\\|X_{t_{j,k}-1}-\\mu(X_{t_{j,k}},t_{j,k};\\theta)\\bigr\\|^2}\n",
    "     {2\\,(1-\\alpha_{t_{j,k}})}.\n",
    "$$\n",
    "Then average them to get the per-example loss\n",
    "$$\n",
    "L_j^{(K)}\n",
    "=\n",
    "\\frac{1}{K}\\sum_{k=1}^K \\ell_{j,k}\n",
    "=\n",
    "\\frac{1}{K}\\sum_{k=1}^K\n",
    "\\frac{\\bigl\\|X_{t_{j,k}-1}-\\mu(X_{t_{j,k}},t_{j,k};\\theta)\\bigr\\|^2}\n",
    "     {2\\,(1-\\alpha_{t_{j,k}})}.\n",
    "$$\n",
    "Since the $\\ell_{j,k}$ are independent conditioned on \\(X_j\\), the variance of their mean drops by \\(1/K\\):\n",
    "$$\n",
    "\\mathrm{Var}\\bigl(L_j^{(K)}\\bigr)\n",
    "=\\frac{1}{K^2}\\sum_{k=1}^K \\mathrm{Var}(\\ell_{j,k})\n",
    "=\\frac{1}{K}\\,\\mathrm{Var}(\\ell_{j,1}).\n",
    "$$\n",
    "Thus, drawing multiple timesteps per example directly reduces the Monte Carlo noise in our loss estimate by approximately a factor of \\(K\\).\n",
    "\n",
    "---"
   ]
  },
  {
   "cell_type": "code",
   "execution_count": 4,
   "metadata": {
    "id": "roloHl0jVk6h"
   },
   "outputs": [],
   "source": [
    "def batch_diffusion_loss_multi_t(X0: torch.Tensor,\n",
    "                                 diff: Diffusion,\n",
    "                                 K: int = 4):\n",
    "    \"\"\"\n",
    "    For each of the b examples, draw K random timesteps,\n",
    "    sample (x_{t-1}, x_t), compute the loss L_jk, average\n",
    "    over k=1..K, then average over j=1..b.\n",
    "    \"\"\"\n",
    "    b = X0.shape[0]\n",
    "    device = X0.device\n",
    "    T = diff.n_steps\n",
    "\n",
    "    # 1) Draw K timesteps per example: shape (b, K)\n",
    "    t = torch.randint(1, T, (b, K), device=device)\n",
    "\n",
    "    # 2) Flatten everything to a big batch of size b*K\n",
    "    t_flat = t.view(-1)                             # (b*K,)\n",
    "    # expand X0 to (b, K, C, H, W) then flatten → (b*K, C, H, W)\n",
    "    X0_exp = X0.unsqueeze(1).expand(-1, K, *X0.shape[1:]).contiguous()\n",
    "    X0_flat = X0_exp.view(-1, *X0.shape[1:])        # (b*K, C, H, W)\n",
    "\n",
    "    # 3) Sample forward-process pairs for each of the b*K samples\n",
    "    x_tm1_flat, x_t_flat = diff.forward_process(X0_flat, t_flat)\n",
    "\n",
    "    # 4) Predict μ(x_t, t) and compute squared errors\n",
    "    t_model_flat = t_flat.float().unsqueeze(-1)                        # → (b*K,1)\n",
    "    mu_flat, _   = diff.predict_next(x_t_flat, t_model_flat)          # → (b*K,C,H,W)\n",
    "    err_flat     = (x_tm1_flat - mu_flat).view(b*K, -1).pow(2).sum(1)   # → (b*K,)\n",
    "\n",
    "    # 5) Denominator 2*(1 - α_t)\n",
    "    one_minus_alpha = (1 - diff.alphas[t_flat]).view(b*K)            # (b*K,)\n",
    "    loss_flat = err_flat / (2 * one_minus_alpha)                     # (b*K,)\n",
    "\n",
    "    # 6) Reshape back to (b, K), average over K, then over b\n",
    "    loss_per_example = loss_flat.view(b, K).mean(dim=1)              # (b,)\n",
    "    return loss_per_example.mean()                                  # scalar\n"
   ]
  },
  {
   "cell_type": "markdown",
   "metadata": {
    "id": "IE-GMPuxaP3O"
   },
   "source": [
    "## (4) Write code that minimizes the loss in (3)"
   ]
  },
  {
   "cell_type": "code",
   "execution_count": 5,
   "metadata": {
    "colab": {
     "base_uri": "https://localhost:8080/"
    },
    "id": "vw1_pwTdVk2d",
    "outputId": "b281f4bd-e3ef-4ce6-8b33-c2393f0d77bd"
   },
   "outputs": [
    {
     "name": "stdout",
     "output_type": "stream",
     "text": [
      "Mounted at /content/drive\n"
     ]
    }
   ],
   "source": [
    "from google.colab import drive\n",
    "drive.mount('/content/drive')\n",
    "predir = '/content/drive/My Drive/LSDA/'\n",
    "import h5py\n",
    "import torch\n",
    "import numpy as np\n",
    "# Torch functions\n",
    "import torch.nn as nn\n",
    "import torch.nn.functional as F\n",
    "import torch.optim as optim\n",
    "\n",
    "# Utility to track progress of a routine.\n",
    "from tqdm.notebook import trange, tqdm\n",
    "\n",
    "# Folder with data\n",
    "datadir=predir+'data/'\n",
    "device = torch.device(\"cuda:0\" if torch.cuda.is_available() else \"cpu\")"
   ]
  },
  {
   "cell_type": "code",
   "execution_count": 7,
   "metadata": {
    "colab": {
     "base_uri": "https://localhost:8080/"
    },
    "id": "SI6IgP2mVkx8",
    "outputId": "08b7f29d-9afd-4f23-8a0e-66116e479cfd"
   },
   "outputs": [
    {
     "name": "stdout",
     "output_type": "stream",
     "text": [
      "Mnist data shape (70000, 784)\n"
     ]
    }
   ],
   "source": [
    "def get_mnist():\n",
    "    data=np.float64(np.load(datadir+'mnist/MNIST_data.npy'))\n",
    "    labels=np.float32(np.load(datadir+'mnist/MNIST_labels.npy'))\n",
    "    print('Mnist data shape',data.shape)\n",
    "    data=np.float32(data)/255.\n",
    "    train_dat=data[0:50000].reshape((-1,1,28,28))\n",
    "    train_labels=np.int32(labels[0:50000])\n",
    "    val_dat=data[50000:60000].reshape((-1,1,28,28))\n",
    "    val_labels=np.int32(labels[50000:60000])\n",
    "    test_dat=data[60000:70000].reshape((-1,1,28,28))\n",
    "    test_labels=np.int32(labels[60000:70000])\n",
    "\n",
    "    return (train_dat, train_labels), (val_dat, val_labels), (test_dat, test_labels)\n",
    "(train_dat, train_labels), (val_dat, val_labels), (test_dat, test_labels) = get_mnist()"
   ]
  },
  {
   "cell_type": "code",
   "execution_count": 26,
   "metadata": {},
   "outputs": [],
   "source": [
    "from torch.utils.data import DataLoader, Subset, TensorDataset\n",
    "from torch.optim.lr_scheduler import StepLR\n"
   ]
  },
  {
   "cell_type": "code",
   "execution_count": 9,
   "metadata": {
    "colab": {
     "base_uri": "https://localhost:8080/"
    },
    "id": "8_yw7mL7FKqv",
    "outputId": "ae22add4-1176-41de-cb8b-60f3ef2a00bc"
   },
   "outputs": [
    {
     "name": "stdout",
     "output_type": "stream",
     "text": [
      "Epoch 01: Train Loss = 1837.2164,  Val Loss = 388.5246\n",
      "Epoch 02: Train Loss = 388.2903,  Val Loss = 388.1732\n",
      "Epoch 03: Train Loss = 388.0494,  Val Loss = 388.1374\n",
      "Epoch 04: Train Loss = 388.0982,  Val Loss = 387.9517\n",
      "Epoch 05: Train Loss = 388.0137,  Val Loss = 388.0246\n",
      "Epoch 06: Train Loss = 387.9132,  Val Loss = 388.0013\n",
      "Epoch 07: Train Loss = 387.9251,  Val Loss = 387.8171\n",
      "Epoch 08: Train Loss = 387.8083,  Val Loss = 387.6487\n",
      "Epoch 09: Train Loss = 387.6485,  Val Loss = 387.5766\n",
      "Epoch 10: Train Loss = 387.3434,  Val Loss = 387.1341\n",
      "Epoch 11: Train Loss = 387.0493,  Val Loss = 386.7818\n",
      "Epoch 12: Train Loss = 386.4010,  Val Loss = 386.1786\n",
      "Epoch 13: Train Loss = 385.8707,  Val Loss = 385.5326\n",
      "Epoch 14: Train Loss = 385.3094,  Val Loss = 385.0841\n",
      "Epoch 15: Train Loss = 384.8445,  Val Loss = 384.4864\n",
      "Epoch 16: Train Loss = 384.6450,  Val Loss = 384.3978\n",
      "Epoch 17: Train Loss = 384.3590,  Val Loss = 383.9833\n",
      "Epoch 18: Train Loss = 383.8000,  Val Loss = 383.6239\n",
      "Epoch 19: Train Loss = 383.6785,  Val Loss = 384.0973\n",
      "Epoch 20: Train Loss = 383.5299,  Val Loss = 383.3089\n",
      "Epoch 21: Train Loss = 382.9354,  Val Loss = 383.0212\n",
      "Epoch 22: Train Loss = 382.9484,  Val Loss = 383.1055\n",
      "Epoch 23: Train Loss = 382.9128,  Val Loss = 383.1084\n",
      "Epoch 24: Train Loss = 382.9766,  Val Loss = 382.9148\n",
      "Epoch 25: Train Loss = 382.7552,  Val Loss = 382.4004\n",
      "Epoch 26: Train Loss = 382.3296,  Val Loss = 382.1191\n",
      "Epoch 27: Train Loss = 382.1628,  Val Loss = 381.9690\n",
      "Epoch 28: Train Loss = 382.1328,  Val Loss = 381.6998\n",
      "Epoch 29: Train Loss = 381.6512,  Val Loss = 381.6757\n",
      "Epoch 30: Train Loss = 381.4062,  Val Loss = 381.5751\n",
      "Epoch 31: Train Loss = 381.4531,  Val Loss = 381.3239\n",
      "Epoch 32: Train Loss = 381.3683,  Val Loss = 381.2108\n",
      "Epoch 33: Train Loss = 381.4006,  Val Loss = 381.3660\n",
      "Epoch 34: Train Loss = 381.3328,  Val Loss = 381.1966\n",
      "Epoch 35: Train Loss = 381.3302,  Val Loss = 381.4974\n",
      "Epoch 36: Train Loss = 381.2233,  Val Loss = 381.0515\n",
      "Epoch 37: Train Loss = 381.2749,  Val Loss = 381.3102\n",
      "Epoch 38: Train Loss = 381.1682,  Val Loss = 381.1405\n",
      "Epoch 39: Train Loss = 381.2178,  Val Loss = 381.0429\n",
      "Epoch 40: Train Loss = 381.1353,  Val Loss = 380.8275\n",
      "Epoch 41: Train Loss = 381.0136,  Val Loss = 381.1094\n",
      "Epoch 42: Train Loss = 381.0937,  Val Loss = 380.7770\n",
      "Epoch 43: Train Loss = 380.9714,  Val Loss = 381.4140\n",
      "Epoch 44: Train Loss = 381.0204,  Val Loss = 381.0070\n",
      "Epoch 45: Train Loss = 381.0065,  Val Loss = 381.0657\n",
      "Epoch 46: Train Loss = 380.8703,  Val Loss = 380.8358\n",
      "Epoch 47: Train Loss = 380.9951,  Val Loss = 380.7337\n",
      "Epoch 48: Train Loss = 380.9782,  Val Loss = 381.2062\n",
      "Epoch 49: Train Loss = 381.0031,  Val Loss = 380.8190\n",
      "Epoch 50: Train Loss = 380.9007,  Val Loss = 381.0562\n",
      "Epoch 51: Train Loss = 380.9783,  Val Loss = 380.7266\n",
      "Epoch 52: Train Loss = 381.0900,  Val Loss = 380.9731\n",
      "Epoch 53: Train Loss = 381.0367,  Val Loss = 380.9568\n",
      "Epoch 54: Train Loss = 381.0661,  Val Loss = 380.7355\n",
      "Epoch 55: Train Loss = 380.9675,  Val Loss = 380.9990\n",
      "Epoch 56: Train Loss = 381.0902,  Val Loss = 380.9531\n",
      "Epoch 57: Train Loss = 380.8728,  Val Loss = 380.9711\n",
      "Epoch 58: Train Loss = 380.9207,  Val Loss = 381.0410\n",
      "Epoch 59: Train Loss = 380.8822,  Val Loss = 380.7383\n",
      "Epoch 60: Train Loss = 381.0665,  Val Loss = 380.8485\n"
     ]
    }
   ],
   "source": [
    "T          = 200\n",
    "batch_size = 100\n",
    "n_epochs   = 60\n",
    "lr_main    = 1e-2       # for U-Net parameters\n",
    "lr_rho     = 2e-1       # for rho0, rho1\n",
    "step_size  = 20\n",
    "gamma      = 0.1\n",
    "K          = 4          # variance-reduction steps\n",
    "\n",
    "device = torch.device('cuda' if torch.cuda.is_available() else 'cpu')\n",
    "\n",
    "# --- 2) Build DataLoaders ---\n",
    "train_ds = TensorDataset(\n",
    "    torch.from_numpy(train_dat).float(),\n",
    "    torch.from_numpy(train_labels).long()\n",
    ")\n",
    "val_ds = TensorDataset(\n",
    "    torch.from_numpy(val_dat).float(),\n",
    "    torch.from_numpy(val_labels).long()\n",
    ")\n",
    "\n",
    "train_loader = DataLoader(\n",
    "    train_ds, batch_size=batch_size, shuffle=True, drop_last=True\n",
    ")\n",
    "val_loader = DataLoader(\n",
    "    val_ds, batch_size=batch_size, shuffle=False, drop_last=False\n",
    ")\n",
    "\n",
    "# --- 3) Instantiate the channel-reduced model & its Diffusion wrapper ---\n",
    "model_channel_reduc = ScoreNet_channel_reduc().to(device)\n",
    "diff_channel_reduc = Diffusion(\n",
    "    model_channel_reduc,\n",
    "    n_steps=T,\n",
    "    device=device,\n",
    "    min_beta=1e-4,\n",
    "    max_beta=1e-1\n",
    ")\n",
    "\n",
    "# --- 4) Optimizer & LR scheduler ---\n",
    "opt = torch.optim.Adam([\n",
    "    {\n",
    "        'params': [model_channel_reduc.rho0,\n",
    "                   model_channel_reduc.rho1],\n",
    "        'lr': lr_rho\n",
    "    },\n",
    "    {\n",
    "        'params': [\n",
    "            p for n, p in model_channel_reduc.named_parameters()\n",
    "            if n not in ('rho0', 'rho1')\n",
    "        ],\n",
    "        'lr': lr_main\n",
    "    }\n",
    "])\n",
    "sched = StepLR(opt, step_size=step_size, gamma=gamma)\n",
    "\n",
    "# --- 5) Training + Validation Loop ---\n",
    "for epoch in range(1, n_epochs + 1):\n",
    "    # Train\n",
    "    model_channel_reduc.train()\n",
    "    train_loss = 0.0\n",
    "    for X0, _ in train_loader:\n",
    "        X0 = X0.to(device)\n",
    "        opt.zero_grad()\n",
    "        loss = batch_diffusion_loss_multi_t(\n",
    "            X0,\n",
    "            diff_channel_reduc,\n",
    "            K=K\n",
    "        )\n",
    "        loss.backward()\n",
    "        opt.step()\n",
    "        train_loss += loss.item() * X0.size(0)\n",
    "    sched.step()\n",
    "    train_loss /= len(train_loader.dataset)\n",
    "\n",
    "    # Validate\n",
    "    model_channel_reduc.eval()\n",
    "    val_loss = 0.0\n",
    "    with torch.no_grad():\n",
    "        for X0, _ in val_loader:\n",
    "            X0 = X0.to(device)\n",
    "            loss = batch_diffusion_loss_multi_t(\n",
    "                X0,\n",
    "                diff_channel_reduc,\n",
    "                K=K\n",
    "            )\n",
    "            val_loss += loss.item() * X0.size(0)\n",
    "    val_loss /= len(val_loader.dataset)\n",
    "\n",
    "    print(f\"Epoch {epoch:02d}: \"\n",
    "          f\"Train Loss = {train_loss:.4f},  Val Loss = {val_loss:.4f}\")\n"
   ]
  },
  {
   "cell_type": "code",
   "execution_count": null,
   "metadata": {
    "id": "WfNbtYmbYNzh"
   },
   "outputs": [],
   "source": []
  },
  {
   "cell_type": "code",
   "execution_count": null,
   "metadata": {
    "id": "MfSWmrH0YNtF"
   },
   "outputs": [],
   "source": []
  },
  {
   "cell_type": "code",
   "execution_count": null,
   "metadata": {
    "id": "15rgR6vxYNot"
   },
   "outputs": [],
   "source": []
  },
  {
   "cell_type": "markdown",
   "metadata": {
    "id": "9QXNvcTxmDpM"
   },
   "source": [
    "## (5) Sample from the trained model"
   ]
  },
  {
   "cell_type": "markdown",
   "metadata": {
    "id": "dI5A1R6oSURw"
   },
   "source": [
    "---\n",
    "Reverse sample Procedure:\n",
    "$$\n",
    "x_{t-1} \\;=\\; \\mu\\bigl(x_t, t; \\theta\\bigr)\\;+\\;\\sqrt{1 - \\alpha_t}\\,Z_t\n",
    "\\,,\\quad\n",
    "t = T,\\,T-1,\\,\\dots,\\,1.\n",
    "$$\n",
    "\n",
    "---"
   ]
  },
  {
   "cell_type": "code",
   "execution_count": 10,
   "metadata": {
    "colab": {
     "base_uri": "https://localhost:8080/",
     "height": 120
    },
    "id": "IILDpbrIYN34",
    "outputId": "52c24778-4acf-4b6a-9c2c-642406222e27"
   },
   "outputs": [
    {
     "data": {
      "image/png": "[encoded data removed]",
      "text/plain": [
       "<Figure size 4000x400 with 40 Axes>"
      ]
     },
     "metadata": {},
     "output_type": "display_data"
    }
   ],
   "source": [
    "import torch\n",
    "import matplotlib.pyplot as plt\n",
    "\n",
    "# 1) Draw a batch of noise X_T\n",
    "n = 20\n",
    "shape = (n, 1, 28, 28)\n",
    "device = torch.device('cuda' if torch.cuda.is_available() else 'cpu')\n",
    "X_T = torch.randn(shape, device=device)\n",
    "\n",
    "# 2) Define the sampling function (reuse your @torch.no_grad one)\n",
    "@torch.no_grad()\n",
    "def sample_batch(model, diff, noise_batch):\n",
    "    model.eval()\n",
    "    x = noise_batch.clone()\n",
    "    for t in reversed(range(1, diff.n_steps)):\n",
    "        # integer timesteps for alphas\n",
    "        t_int = t\n",
    "        # float timesteps for the network\n",
    "        t_tensor = torch.full((x.size(0),), t_int, device=device, dtype=torch.float).unsqueeze(-1)\n",
    "        # model predicts mean\n",
    "        mu, _ = model(x, t_tensor)\n",
    "        # fixed variance\n",
    "        sigma = torch.sqrt(1 - diff.alphas[t_int]).to(device)\n",
    "        noise = torch.randn_like(x) if t_int > 1 else 0.0\n",
    "        x = mu + sigma * noise\n",
    "    return x.clamp(0.0, 1.0)\n",
    "\n",
    "# 3) Sample X_0 from your variance‐reduced model\n",
    "X_0_var = sample_batch(model_channel_reduc, diff_channel_reduc, X_T)\n",
    "\n",
    "# 4) Plot side‐by‐side\n",
    "fig, axes = plt.subplots(2, n, figsize=(n * 2, 4))\n",
    "for i in range(n):\n",
    "    axes[0, i].imshow(X_T[i, 0].cpu(), cmap='gray', interpolation='nearest')\n",
    "    axes[0, i].axis('off')\n",
    "    axes[1, i].imshow(X_0_var[i, 0].cpu(), cmap='gray', interpolation='nearest')\n",
    "    axes[1, i].axis('off')\n",
    "\n",
    "axes[0, 0].set_title('X_T (Noise)', pad=10)\n",
    "axes[1, 0].set_title('X_0 (Var-Reduced Sample)', pad=10)\n",
    "plt.tight_layout()\n",
    "plt.show()\n"
   ]
  },
  {
   "cell_type": "code",
   "execution_count": 15,
   "metadata": {
    "id": "ke4odBis1Mq8"
   },
   "outputs": [],
   "source": [
    "import torch\n",
    "import matplotlib.pyplot as plt\n",
    "\n",
    "# 1) Draw a batch of noise X_T\n",
    "n = 20\n",
    "shape = (n, 1, 28, 28)\n",
    "device = torch.device('cuda' if torch.cuda.is_available() else 'cpu')\n",
    "X_T = torch.randn(shape, device=device)\n",
    "\n",
    "# 2) Define the sampling function\n",
    "@torch.no_grad()\n",
    "def sample_images(model, diff, noise_batch):\n",
    "    model.eval()\n",
    "    x = noise_batch.clone()\n",
    "    for t in reversed(range(1, diff.n_steps)):\n",
    "        t_tensor = torch.full((n,), t, device=device, dtype=torch.float).unsqueeze(-1)\n",
    "        mu, _ = model(x, t_tensor)\n",
    "        sigma = torch.sqrt(1 - diff.alphas[t]).to(device)\n",
    "        eps   = torch.randn_like(x) if t > 1 else 0.0\n",
    "        x = mu + sigma * eps\n",
    "    return x.clamp(0,1)\n",
    "\n"
   ]
  },
  {
   "cell_type": "markdown",
   "metadata": {
    "id": "HERlgf-12cKi"
   },
   "source": [
    "## (6) Compute the FID Score between original image and 1000 samples from the trained model"
   ]
  },
  {
   "cell_type": "code",
   "execution_count": 16,
   "metadata": {
    "id": "A-WNN_dW0zqs"
   },
   "outputs": [],
   "source": [
    "import numpy as np\n",
    "\n",
    "def matrix_sqrt(A):\n",
    "    eigenvalues, U = np.linalg.eigh(A)\n",
    "    if np.any(eigenvalues < 0):\n",
    "        raise ValueError(\"Matrix is not positive definite: found negative eigenvalues\")\n",
    "    sqrt_eigenvalues = np.sqrt(eigenvalues)\n",
    "\n",
    "    Lambda_sqrt = np.diag(sqrt_eigenvalues)\n",
    "\n",
    "    A_sqrt = U @ Lambda_sqrt @ U.T\n",
    "    return A_sqrt\n",
    "\n",
    "\n",
    "\n",
    "def compute_fid(sample1, sample2, eps=1e-6):\n",
    "    mu1 = np.mean(sample1, axis=0)\n",
    "    mu2 = np.mean(sample2, axis=0)\n",
    "\n",
    "    cov1 = np.cov(sample1, rowvar=False) + np.eye(sample1.shape[1])*eps\n",
    "    cov2 = np.cov(sample2, rowvar=False) + np.eye(sample2.shape[1])*eps\n",
    "\n",
    "    diff = np.sum((mu1 - mu2)**2)\n",
    "\n",
    "    cov1_sqrt = matrix_sqrt(cov1)\n",
    "    temp      = cov1_sqrt @ cov2 @ cov1_sqrt\n",
    "    temp_sqrt = matrix_sqrt(temp)\n",
    "\n",
    "    fid = diff + np.trace(cov1 + cov2 - 2*temp_sqrt)\n",
    "    return np.real_if_close(fid)\n"
   ]
  },
  {
   "cell_type": "code",
   "execution_count": 17,
   "metadata": {
    "colab": {
     "base_uri": "https://localhost:8080/"
    },
    "id": "U5ku0PT61jZw",
    "outputId": "baa7825f-ad2d-49f1-a218-beca202e5225"
   },
   "outputs": [
    {
     "name": "stdout",
     "output_type": "stream",
     "text": [
      "FID over 1 000 samples: 8.1425\n"
     ]
    }
   ],
   "source": [
    "\n",
    "# 1) Generate 1k samples from your trained model\n",
    "n = 1000\n",
    "device = torch.device('cuda' if torch.cuda.is_available() else 'cpu')\n",
    "noise = torch.randn(n, 1, 28, 28, device=device)\n",
    "\n",
    "\n",
    "gen_imgs = sample_images( model_channel_reduc, diff_channel_reduc, noise)\n",
    "# flatten to (1000, 28*28)\n",
    "gen_flat  = gen_imgs.cpu().numpy().reshape(n, -1)\n",
    "\n",
    "# 2) Grab 1k real MNIST images\n",
    "idxs = np.random.choice(train_dat.shape[0], size=n, replace=False)\n",
    "real_flat = train_dat[idxs].reshape(n, -1)  # already float32 in [0,1]\n",
    "\n",
    "\n",
    "# 4) Compute FID\n",
    "fid_value = compute_fid(real_flat, gen_flat)\n",
    "print(f\"FID over 1 000 samples: {fid_value:.4f}\")\n"
   ]
  },
  {
   "cell_type": "code",
   "execution_count": null,
   "metadata": {
    "id": "qsf5Kt5Wl4GN"
   },
   "outputs": [],
   "source": []
  },
  {
   "cell_type": "code",
   "execution_count": null,
   "metadata": {
    "id": "x76mrriAl389"
   },
   "outputs": [],
   "source": []
  },
  {
   "cell_type": "markdown",
   "metadata": {
    "id": "h8LdO8OLTkt1"
   },
   "source": [
    "# Code II\n",
    "**Noise ($\\epsilon$) loss**\n",
    "  $\\mathbb{E}\\Bigl[\\tfrac{1-\\alpha_t}{2\\alpha_t(1-\\bar\\alpha_t)}\\|\\,\\epsilon_t - e_\\theta(X_t,t)\\|^2\\Bigr]$"
   ]
  },
  {
   "cell_type": "markdown",
   "metadata": {
    "id": "9LW4B5euhlUP"
   },
   "source": [
    "## (1) Network Architecture, this code provides a network $e_t(x,t;\\theta)$ which can be used to calculate loss in part (3)"
   ]
  },
  {
   "cell_type": "code",
   "execution_count": null,
   "metadata": {
    "id": "C952KEMHuZTc"
   },
   "outputs": [],
   "source": [
    "class ScoreNet(nn.Module):\n",
    "  \"\"\"A time-dependent score-based model built upon U-Net architecture.\"\"\"\n",
    "\n",
    "  def __init__(self, channels=[32, 64, 128, 256], embed_dim=256, group_num=4):\n",
    "\n",
    "    super().__init__()\n",
    "\n",
    "    self.embed = nn.Sequential(GaussianFourierProjection(embed_dim=embed_dim),\n",
    "         nn.Linear(embed_dim, embed_dim))\n",
    "\n",
    "    self.conv1 = nn.Conv2d(1, channels[0], 3, stride=1, bias=False)\n",
    "    self.dense1 = Dense(embed_dim, channels[0])\n",
    "    self.gnorm1 = nn.GroupNorm(group_num, num_channels=channels[0])\n",
    "    self.conv2 = nn.Conv2d(channels[0], channels[1], 3, stride=2, bias=False)\n",
    "    self.dense2 = Dense(embed_dim, channels[1])\n",
    "    self.gnorm2 = nn.GroupNorm(group_num, num_channels=channels[1])\n",
    "    self.conv3 = nn.Conv2d(channels[1], channels[2], 3, stride=2, bias=False)\n",
    "    self.dense3 = Dense(embed_dim, channels[2])\n",
    "    self.gnorm3 = nn.GroupNorm(group_num, num_channels=channels[2])\n",
    "    self.conv4 = nn.Conv2d(channels[2], channels[3], 3, stride=2, bias=False)\n",
    "    self.dense4 = Dense(embed_dim, channels[3])\n",
    "    self.gnorm4 = nn.GroupNorm(group_num, num_channels=channels[3])\n",
    "\n",
    "    self.tconv4 = nn.ConvTranspose2d(channels[3], channels[2], 3, stride=2, bias=False)\n",
    "    self.dense5 = Dense(embed_dim, channels[2])\n",
    "    self.tgnorm4 = nn.GroupNorm(group_num, num_channels=channels[2])\n",
    "    self.tconv3 = nn.ConvTranspose2d(channels[2] + channels[2], channels[1], 3, stride=2, bias=False, output_padding=1)\n",
    "    self.dense6 = Dense(embed_dim, channels[1])\n",
    "    self.tgnorm3 = nn.GroupNorm(group_num, num_channels=channels[1])\n",
    "    self.tconv2 = nn.ConvTranspose2d(channels[1] + channels[1], channels[0], 3, stride=2, bias=False, output_padding=1)\n",
    "    self.dense7 = Dense(embed_dim, channels[0])\n",
    "    self.tgnorm2 = nn.GroupNorm(group_num, num_channels=channels[0])\n",
    "    self.tconv1 = nn.ConvTranspose2d(channels[0] + channels[0], 1, 3, stride=1)\n",
    "\n",
    "    # The swish activation function\n",
    "    self.act = lambda x: x * torch.sigmoid(x)\n",
    "\n",
    "  def forward(self, x, t):\n",
    "    # Obtain the Gaussian random feature embedding for t, x is (batch_size,  C,  H,  W)\n",
    "    embed = self.act(self.embed(t))\n",
    "\n",
    "    h1 = self.conv1(x) # ...\n",
    "    h1 += self.dense1(embed) #...\n",
    "    h1 = self.gnorm1(h1) # ...\n",
    "    h1 = self.act(h1) # ...\n",
    "    h2 = self.conv2(h1) # ...\n",
    "    h2 += self.dense2(embed)\n",
    "    h2 = self.gnorm2(h2)\n",
    "    h2 = self.act(h2)\n",
    "    h3 = self.conv3(h2)\n",
    "    h3 += self.dense3(embed)\n",
    "    h3 = self.gnorm3(h3)\n",
    "    h3 = self.act(h3)\n",
    "    h4 = self.conv4(h3)\n",
    "    h4 += self.dense4(embed)\n",
    "    h4 = self.gnorm4(h4)\n",
    "    h4 = self.act(h4)\n",
    "\n",
    "    h = self.tconv4(h4) # ...\n",
    "    h += self.dense5(embed) # ...\n",
    "    h = self.tgnorm4(h)\n",
    "    h = self.act(h)\n",
    "    h = self.tconv3(torch.cat([h, h3], dim=1)) # ...\n",
    "    h += self.dense6(embed)\n",
    "    h = self.tgnorm3(h)\n",
    "    h = self.act(h)\n",
    "    h = self.tconv2(torch.cat([h, h2], dim=1))\n",
    "    h += self.dense7(embed)\n",
    "    h = self.tgnorm2(h)\n",
    "    h = self.act(h)\n",
    "    h = self.tconv1(torch.cat([h, h1], dim=1))\n",
    "\n",
    "    return h"
   ]
  },
  {
   "cell_type": "markdown",
   "metadata": {},
   "source": [
    "## (2) A diffusion class that stores $\\beta_t$, $\\alpha_t$, $\\bar{\\alpha}_t$ and has a function to sample $x_{t}$, $\\epsilon_t$ given $x_0$, one that predict $e_t(x_t,t,\\theta)$"
   ]
  },
  {
   "cell_type": "code",
   "execution_count": null,
   "metadata": {
    "id": "9hDs_IlXvwSv"
   },
   "outputs": [],
   "source": [
    "from math import e\n",
    "class Diffusion_codeII(nn.Module):\n",
    "    def __init__(self, model, n_steps, device, min_beta=1e-4, max_beta=0.1):\n",
    "        super().__init__()\n",
    "        self.model = model\n",
    "        self.n_steps = n_steps\n",
    "        self.device = device\n",
    "\n",
    "        # linear beta schedule β₁…β_T\n",
    "        self.betas = torch.linspace(min_beta, max_beta, n_steps, device=device)\n",
    "        # α_t = 1 − β_t\n",
    "        self.alphas = 1.0 - self.betas\n",
    "        # \\barα_t = ∏_{s=1}^t α_s\n",
    "        self.alpha_bar = torch.cumprod(self.alphas, dim=0)\n",
    "\n",
    "    def forward_process(self, x0, t):\n",
    "        \"\"\"\n",
    "        Given x0 and integer timestep t (1 ≤ t < n_steps),\n",
    "        returns (x_{t-1}, x_t) ~ q(x_{t-1}, x_t | x0).\n",
    "        \"\"\"\n",
    "        # grab scalars for this batch\n",
    "        abar_t   = self.alpha_bar[t    ].view(-1, *([1] * (x0.ndim-1)))\n",
    "        abar_t_1 = self.alpha_bar[t - 1].view(-1, *([1] * (x0.ndim-1)))\n",
    "        alpha_t = self.alphas[t].view(-1, *([1] * (x0.ndim-1)))\n",
    "\n",
    "        noise_t   = torch.randn_like(x0)\n",
    "        noise_tm1 = torch.randn_like(x0)\n",
    "\n",
    "        x_t   = torch.sqrt(abar_t)   * x0 + torch.sqrt(1 - abar_t)   * noise_t\n",
    "        # x_tm1 = torch.sqrt(abar_t_1) * x0 + torch.sqrt(1 - abar_t_1) * noise_tm1\n",
    "        # x_t   = torch.sqrt(alpha_t) * x_tm1 + torch.sqrt(1 - alpha_t) * noise_t\n",
    "        return x_t, noise_t\n",
    "\n",
    "    def predict_next(self, xt, t):\n",
    "        \"\"\"\n",
    "        Given a noisy xt at timestep t, use the learned model to\n",
    "        predict the reverse‐mean μ(xt,t;θ).\n",
    "        \"\"\"\n",
    "        # assume model(xt, t) returns μ directly\n",
    "        e_xt = self.model(xt, t)\n",
    "        return e_xt\n"
   ]
  },
  {
   "cell_type": "markdown",
   "metadata": {},
   "source": [
    "## (3) define the noise‐prediction loss function \n",
    "  $$\\mathbb{E}\\Bigl[\\tfrac{1-\\alpha_t}{2\\alpha_t(1-\\bar\\alpha_t)}\\|\\,\\epsilon_t - e_\\theta(X_t,t)\\|^2\\Bigr]$$"
   ]
  },
  {
   "cell_type": "code",
   "execution_count": null,
   "metadata": {
    "id": "Ql4FFu6-saD4"
   },
   "outputs": [],
   "source": [
    "def batch_diffusion_loss_CodeII(X0, diff):\n",
    "    b      = X0.shape[0]\n",
    "    device = X0.device\n",
    "    T      = diff.n_steps\n",
    "\n",
    "    # 1) draw integer timesteps for each sample\n",
    "    t_int = torch.randint(1, T, (b,), device=device)      # (b,)\n",
    "\n",
    "    # 2) sample x_t and the noise ε used\n",
    "    x_t, noise_t = diff.forward_process(X0, t_int)         # each (b,1,H,W)\n",
    "\n",
    "    # 3) prepare t for the model\n",
    "    t_model = t_int.float().unsqueeze(-1)                  # (b,1)\n",
    "\n",
    "    # 4) predict the noise ε_θ(x_t,t)\n",
    "    e_xt = diff.predict_next(x_t, t_model)                 # (b,1,H,W)\n",
    "\n",
    "    # 5) squared‐error term ‖ε − ε_θ‖²\n",
    "    err = (noise_t - e_xt).view(b, -1).pow(2).sum(dim=1)    # (b,)\n",
    "\n",
    "    # 6) weight term: (1−α_t) / [2 α_t (1−\\barα_t)]\n",
    "    alpha_t    = diff.alphas[t_int]                        # (b,)\n",
    "    alpha_bar_t= diff.alpha_bar[t_int]                     # (b,)\n",
    "    w = (1 - alpha_t) / (2 * alpha_t * (1 - alpha_bar_t))  # (b,)\n",
    "\n",
    "    losses = err * w                                        # (b,)\n",
    "    return losses.mean()\n"
   ]
  },
  {
   "cell_type": "markdown",
   "metadata": {},
   "source": [
    "## (4) Write code that minimizes the loss in (3)"
   ]
  },
  {
   "cell_type": "code",
   "execution_count": null,
   "metadata": {
    "colab": {
     "base_uri": "https://localhost:8080/"
    },
    "id": "-IVOg1QuIyGE",
    "outputId": "ea85f28b-523b-49ba-cecb-772a68c31e2b"
   },
   "outputs": [
    {
     "name": "stdout",
     "output_type": "stream",
     "text": [
      "[Epoch 01]  Train Loss = 16.58035,  Val Loss = 9.08626\n",
      "[Epoch 02]  Train Loss = 7.66368,  Val Loss = 6.03136\n",
      "[Epoch 03]  Train Loss = 5.05393,  Val Loss = 4.75016\n",
      "[Epoch 04]  Train Loss = 4.10896,  Val Loss = 3.56212\n",
      "[Epoch 05]  Train Loss = 3.90341,  Val Loss = 3.75331\n",
      "[Epoch 06]  Train Loss = 3.51553,  Val Loss = 3.48026\n",
      "[Epoch 07]  Train Loss = 3.34724,  Val Loss = 3.48609\n",
      "[Epoch 08]  Train Loss = 3.50229,  Val Loss = 3.18020\n",
      "[Epoch 09]  Train Loss = 3.59688,  Val Loss = 3.70853\n",
      "[Epoch 10]  Train Loss = 3.22971,  Val Loss = 2.76357\n",
      "[Epoch 11]  Train Loss = 3.36341,  Val Loss = 3.27190\n",
      "[Epoch 12]  Train Loss = 3.26608,  Val Loss = 3.35851\n",
      "[Epoch 13]  Train Loss = 3.39174,  Val Loss = 3.00766\n",
      "[Epoch 14]  Train Loss = 3.13615,  Val Loss = 3.28384\n",
      "[Epoch 15]  Train Loss = 3.75911,  Val Loss = 3.60597\n",
      "[Epoch 16]  Train Loss = 3.56403,  Val Loss = 6.69918\n",
      "[Epoch 17]  Train Loss = 3.86036,  Val Loss = 3.35532\n",
      "[Epoch 18]  Train Loss = 3.49795,  Val Loss = 3.26915\n",
      "[Epoch 19]  Train Loss = 2.89998,  Val Loss = 3.01053\n",
      "[Epoch 20]  Train Loss = 4.25549,  Val Loss = 3.58459\n",
      "[Epoch 21]  Train Loss = 3.16348,  Val Loss = 3.40351\n",
      "[Epoch 22]  Train Loss = 2.95235,  Val Loss = 3.29128\n",
      "[Epoch 23]  Train Loss = 3.16222,  Val Loss = 2.68353\n",
      "[Epoch 24]  Train Loss = 2.81422,  Val Loss = 3.13297\n",
      "[Epoch 25]  Train Loss = 2.63509,  Val Loss = 2.95205\n",
      "[Epoch 26]  Train Loss = 2.56619,  Val Loss = 2.48719\n",
      "[Epoch 27]  Train Loss = 2.47918,  Val Loss = 2.53787\n",
      "[Epoch 28]  Train Loss = 2.61573,  Val Loss = 2.33834\n",
      "[Epoch 29]  Train Loss = 2.25724,  Val Loss = 2.25954\n",
      "[Epoch 30]  Train Loss = 2.28591,  Val Loss = 2.20881\n",
      "[Epoch 31]  Train Loss = 2.22130,  Val Loss = 1.90334\n",
      "[Epoch 32]  Train Loss = 2.07718,  Val Loss = 2.06928\n",
      "[Epoch 33]  Train Loss = 2.02183,  Val Loss = 1.92532\n",
      "[Epoch 34]  Train Loss = 1.85559,  Val Loss = 1.79793\n",
      "[Epoch 35]  Train Loss = 1.90896,  Val Loss = 1.76225\n",
      "[Epoch 36]  Train Loss = 2.13173,  Val Loss = 1.96206\n",
      "[Epoch 37]  Train Loss = 1.87246,  Val Loss = 1.75591\n",
      "[Epoch 38]  Train Loss = 1.85183,  Val Loss = 1.92965\n",
      "[Epoch 39]  Train Loss = 1.77244,  Val Loss = 1.89968\n",
      "[Epoch 40]  Train Loss = 1.73265,  Val Loss = 1.93866\n",
      "[Epoch 41]  Train Loss = 1.64381,  Val Loss = 1.76270\n",
      "[Epoch 42]  Train Loss = 1.67239,  Val Loss = 1.72955\n",
      "[Epoch 43]  Train Loss = 1.63613,  Val Loss = 1.62937\n",
      "[Epoch 44]  Train Loss = 1.67786,  Val Loss = 1.85748\n",
      "[Epoch 45]  Train Loss = 1.66685,  Val Loss = 1.55284\n",
      "[Epoch 46]  Train Loss = 1.61283,  Val Loss = 1.78770\n",
      "[Epoch 47]  Train Loss = 1.67942,  Val Loss = 1.56554\n",
      "[Epoch 48]  Train Loss = 1.69268,  Val Loss = 1.66315\n",
      "[Epoch 49]  Train Loss = 1.59886,  Val Loss = 1.73697\n",
      "[Epoch 50]  Train Loss = 1.59484,  Val Loss = 1.61010\n",
      "[Epoch 51]  Train Loss = 1.66758,  Val Loss = 1.54721\n",
      "[Epoch 52]  Train Loss = 1.63220,  Val Loss = 1.67337\n",
      "[Epoch 53]  Train Loss = 1.61137,  Val Loss = 1.57191\n",
      "[Epoch 54]  Train Loss = 1.65028,  Val Loss = 1.69929\n",
      "[Epoch 55]  Train Loss = 1.60979,  Val Loss = 1.63173\n",
      "[Epoch 56]  Train Loss = 1.63117,  Val Loss = 1.57769\n",
      "[Epoch 57]  Train Loss = 1.56780,  Val Loss = 1.62195\n",
      "[Epoch 58]  Train Loss = 1.62718,  Val Loss = 1.49397\n",
      "[Epoch 59]  Train Loss = 1.60770,  Val Loss = 1.67063\n",
      "[Epoch 60]  Train Loss = 1.62503,  Val Loss = 1.58881\n"
     ]
    }
   ],
   "source": [
    "import torch\n",
    "from torch.utils.data import DataLoader, TensorDataset, random_split\n",
    "from torch.optim.lr_scheduler import StepLR\n",
    "\n",
    "# --- 0) Hyperparameters ---\n",
    "T          = 200\n",
    "batch_size = 100\n",
    "n_epochs   = 60\n",
    "lr_main    = 1e-2       # for U-Net weights\n",
    "step_size  = 20\n",
    "gamma      = 0.1\n",
    "\n",
    "device = torch.device('cuda' if torch.cuda.is_available() else 'cpu')\n",
    "\n",
    "# --- 1) Prepare MNIST DataLoaders with a holdout validation set ---\n",
    "# Assume get_mnist() already loaded train_dat/train_labels and val_dat/val_labels\n",
    "train_ds = TensorDataset(\n",
    "    torch.from_numpy(train_dat).float(),\n",
    "    torch.from_numpy(train_labels).long()\n",
    ")\n",
    "val_ds = TensorDataset(\n",
    "    torch.from_numpy(val_dat).float(),\n",
    "    torch.from_numpy(val_labels).long()\n",
    ")\n",
    "\n",
    "train_loader = DataLoader(train_ds, batch_size=batch_size, shuffle=True,  drop_last=True)\n",
    "val_loader   = DataLoader(val_ds,   batch_size=batch_size, shuffle=False, drop_last=False)\n",
    "\n",
    "# --- 2) Instantiate model_codeII and diffusion wrapper ---\n",
    "model_codeII = ScoreNet().to(device)\n",
    "diff_codeII  = Diffusion_codeII(model_codeII, n_steps=T, device=device,\n",
    "                                min_beta=1e-4, max_beta=1e-1)\n",
    "\n",
    "# --- 3) Optimizer & Scheduler ---\n",
    "opt_codeII   = torch.optim.Adam(model_codeII.parameters(), lr=lr_main)\n",
    "sched_codeII = StepLR(opt_codeII, step_size=step_size, gamma=gamma)\n",
    "\n",
    "# --- 4) Training + Validation Loop ---\n",
    "for epoch in range(1, n_epochs+1):\n",
    "    # ---- Training ----\n",
    "    model_codeII.train()\n",
    "    train_loss = 0.0\n",
    "    for X0, _ in train_loader:\n",
    "        X0 = X0.to(device)\n",
    "        opt_codeII.zero_grad()\n",
    "        loss = batch_diffusion_loss_CodeII(X0, diff_codeII)\n",
    "        loss.backward()\n",
    "        opt_codeII.step()\n",
    "        train_loss += loss.item() * X0.size(0)\n",
    "    sched_codeII.step()\n",
    "    train_loss /= len(train_loader.dataset)\n",
    "\n",
    "    # ---- Validation ----\n",
    "    model_codeII.eval()\n",
    "    val_loss = 0.0\n",
    "    with torch.no_grad():\n",
    "        for X0, _ in val_loader:\n",
    "            X0 = X0.to(device)\n",
    "            loss = batch_diffusion_loss_CodeII(X0, diff_codeII)\n",
    "            val_loss += loss.item() * X0.size(0)\n",
    "    val_loss /= len(val_loader.dataset)\n",
    "\n",
    "    print(f\"[Epoch {epoch:02d}]  Train Loss = {train_loss:.5f},  Val Loss = {val_loss:.5f}\")\n"
   ]
  },
  {
   "cell_type": "code",
   "execution_count": null,
   "metadata": {
    "id": "NZj6F6rYvwJu"
   },
   "outputs": [],
   "source": []
  },
  {
   "cell_type": "markdown",
   "metadata": {
    "id": "5SMXrONJYXHc"
   },
   "source": [
    "## (5) Sample from the trained model"
   ]
  },
  {
   "cell_type": "code",
   "execution_count": null,
   "metadata": {
    "colab": {
     "base_uri": "https://localhost:8080/",
     "height": 562
    },
    "id": "1LLWPgDZvwFE",
    "outputId": "d80ee3d0-133b-4985-d008-f47bf95ba60d"
   },
   "outputs": [
    {
     "data": {
      "image/png": "[encoded data removed]",
      "text/plain": [
       "<Figure size 600x600 with 20 Axes>"
      ]
     },
     "metadata": {},
     "output_type": "display_data"
    }
   ],
   "source": [
    "import torch\n",
    "\n",
    "@torch.no_grad()\n",
    "def sample_eq5(model, diff, n_samples=1000, device='cpu'):\n",
    "    model.eval()\n",
    "    x = torch.randn(n_samples, 1, 28, 28, device=device)\n",
    "\n",
    "    for t in reversed(range(1, diff.n_steps)):\n",
    "        t_int    = t\n",
    "        # prepare timestep for network\n",
    "        t_tensor = torch.full((n_samples,), t_int, device=device,\n",
    "                              dtype=torch.float).unsqueeze(-1)\n",
    "\n",
    "        # predict noise εθ\n",
    "        e_t = model(x, t_tensor)  # shape (n,1,28,28)\n",
    "\n",
    "        # fetch scalars\n",
    "        alpha_t     = diff.alphas[t_int]        # α_t\n",
    "        alpha_bar_t = diff.alpha_bar[t_int]     # \\bar α_t\n",
    "        alpha_bar_t_1 = diff.alpha_bar[t_int-1] # \\bar α_{t-1}\n",
    "\n",
    "        # mean per eq (5)\n",
    "        coef = (1 - alpha_t) / torch.sqrt(1 - alpha_bar_t)\n",
    "        mu_t = (x - coef * e_t) / torch.sqrt(alpha_t)\n",
    "\n",
    "        # correct reverse-step variance\n",
    "        beta_tilde = (1 - alpha_t) * (1 - alpha_bar_t_1) / (1 - alpha_bar_t)\n",
    "\n",
    "        # sample x_{t-1}\n",
    "        if t_int > 1:\n",
    "            noise = torch.randn_like(x)\n",
    "            x = mu_t + torch.sqrt(beta_tilde) * noise\n",
    "        else:\n",
    "            x = mu_t\n",
    "\n",
    "    return x.clamp(0.0, 1.0)\n",
    "# --- Usage example ---\n",
    "\n",
    "device = torch.device('cuda' if torch.cuda.is_available() else 'cpu')\n",
    "samples = sample_eq5(model_codeII, diff_codeII, n_samples=20, device=device)\n",
    "\n",
    "# plot a 4×4 grid\n",
    "fig, axes = plt.subplots(4, 5, figsize=(6,6))\n",
    "for i, ax in enumerate(axes.flatten()):\n",
    "    ax.imshow(samples[i,0].cpu(), cmap='gray')\n",
    "    ax.axis('off')\n",
    "plt.tight_layout()\n",
    "plt.show()"
   ]
  },
  {
   "cell_type": "markdown",
   "metadata": {
    "id": "1DJ1QAC7oOeB"
   },
   "source": [
    "## (6) Compute FID score"
   ]
  },
  {
   "cell_type": "code",
   "execution_count": null,
   "metadata": {
    "colab": {
     "base_uri": "https://localhost:8080/"
    },
    "id": "cI9pg73QvwHr",
    "outputId": "e38bd95d-28bb-4f24-a985-dfe7f574e523"
   },
   "outputs": [
    {
     "name": "stdout",
     "output_type": "stream",
     "text": [
      "FID over 1000 samples: 6.5661\n"
     ]
    }
   ],
   "source": [
    "import torch\n",
    "import numpy as np\n",
    "\n",
    "# 1) Sampling function using Eq. (5)\n",
    "@torch.no_grad()\n",
    "def sample_eq5(model, diff, n_samples=1000, device='cpu'):\n",
    "    model.eval()\n",
    "    x = torch.randn(n_samples, 1, 28, 28, device=device)\n",
    "    for t in reversed(range(1, diff.n_steps)):\n",
    "        t_int    = t\n",
    "        t_tensor = torch.full((n_samples,), t_int, device=device, dtype=torch.float).unsqueeze(-1)\n",
    "        e_t      = model(x, t_tensor)  # predict noise\n",
    "        alpha_t     = diff.alphas[t_int]\n",
    "        alpha_bar_t = diff.alpha_bar[t_int]\n",
    "        beta_t      = diff.betas[t_int]\n",
    "        # compute mu(x_t, t) per Eq.(5)\n",
    "        coef = (1 - alpha_t) / torch.sqrt(1 - alpha_bar_t)\n",
    "        mu_t = (x - coef * e_t) / torch.sqrt(alpha_t)\n",
    "        # reverse sample\n",
    "        if t_int > 1:\n",
    "            noise = torch.randn_like(x)\n",
    "            x = mu_t + torch.sqrt(beta_t) * noise\n",
    "        else:\n",
    "            x = mu_t\n",
    "    return x.clamp(0.0, 1.0)\n",
    "\n",
    "# 2) Draw 1 000 generated samples\n",
    "device = torch.device('cuda' if torch.cuda.is_available() else 'cpu')\n",
    "gen_imgs = sample_eq5(model_codeII, diff_codeII, n_samples=1000, device=device)\n",
    "gen_flat = gen_imgs.cpu().numpy().reshape(1000, -1)  # (1000, 784)\n",
    "\n",
    "# 3) Draw 1 000 real MNIST samples\n",
    "idxs      = np.random.choice(train_dat.shape[0], size=1000, replace=False)\n",
    "real_flat = train_dat[idxs].reshape(1000, -1)        # (1000, 784)\n",
    "\n",
    "# 4) Compute FID\n",
    "fid_score = compute_fid(real_flat, gen_flat, eps=1e-6)\n",
    "print(f\"FID over 1000 samples: {fid_score:.4f}\")\n"
   ]
  },
  {
   "cell_type": "markdown",
   "metadata": {
    "id": "zmiFBIhmnQN7"
   },
   "source": [
    "# Comparison between Code I and Code II loss"
   ]
  },
  {
   "cell_type": "markdown",
   "metadata": {
    "id": "AwMGNqKzpC2p"
   },
   "source": [
    "---\n",
    "The two formulations are mathematically equivalent but lead to rather different practical losses:\n",
    "\n",
    "* **Original \\$x\\_{t-1}\\$ loss**\n",
    "  $\\mathbb{E}\\Bigl[\\|\\tilde\\mu_t(X_t,X_0)-\\mu(X_t,t;\\theta)\\|^2/(2(1-\\alpha_t))\\Bigr]$\n",
    "  requires the model to directly predict the reverse‐step mean $\\mu(X_t,t)$ and carries an explicit time‐dependent weight $1/(1-\\alpha_t)$.  Because $1-\\alpha_t$ is small at early timesteps, this can blow up the loss or force very small learning‐rates.\n",
    "\n",
    "* **Noise ($\\epsilon$) loss**\n",
    "  $\\mathbb{E}\\Bigl[\\tfrac{1-\\alpha_t}{2\\alpha_t(1-\\bar\\alpha_t)}\\|\\,\\epsilon_t - e_\\theta(X_t,t)\\|^2\\Bigr]$\n",
    "  re‐parameterizes so the network simply predicts the Gaussian noise $\\epsilon_t$.  The resulting objective is a plain squared‐error on noise, with only mild, well‐behaved time‐dependent weights.\n",
    "\n",
    "**Observable differences in practice**\n",
    "\n",
    "1. The noise‐prediction loss tends to be more stable and recover results are more like numbers. It simplifies the network’s task to “denoise” rather than learn both scale and shift, often resulting in faster convergence and better sample quality.\n",
    "3. Because the weights \\$(1-\\alpha\\_t)/(\\alpha\\_t(1-\\bar\\alpha\\_t))\\$ stay bounded, training is less sensitive to the choice of timestep schedule.\n",
    "\n",
    "---"
   ]
  },
  {
   "cell_type": "code",
   "execution_count": null,
   "metadata": {
    "id": "tMPGgDvcvv31"
   },
   "outputs": [],
   "source": []
  },
  {
   "cell_type": "code",
   "execution_count": null,
   "metadata": {
    "id": "N72llNaOoUmY"
   },
   "outputs": [],
   "source": []
  },
  {
   "cell_type": "code",
   "execution_count": null,
   "metadata": {
    "id": "knLou2ejoUjS"
   },
   "outputs": [],
   "source": []
  },
  {
   "cell_type": "code",
   "execution_count": null,
   "metadata": {
    "id": "_SvRYp1MoUgU"
   },
   "outputs": [],
   "source": []
  },
  {
   "cell_type": "code",
   "execution_count": null,
   "metadata": {
    "id": "14l06Ov4oUdL"
   },
   "outputs": [],
   "source": []
  },
  {
   "cell_type": "code",
   "execution_count": null,
   "metadata": {
    "id": "LiBnSYKjoUaG"
   },
   "outputs": [],
   "source": []
  },
  {
   "cell_type": "code",
   "execution_count": null,
   "metadata": {
    "id": "8Svos2DJoUWu"
   },
   "outputs": [],
   "source": []
  },
  {
   "cell_type": "code",
   "execution_count": null,
   "metadata": {
    "id": "hZfOKoGeoUT1"
   },
   "outputs": [],
   "source": []
  },
  {
   "cell_type": "code",
   "execution_count": null,
   "metadata": {
    "id": "xnoNfGd9oUQx"
   },
   "outputs": [],
   "source": []
  },
  {
   "cell_type": "code",
   "execution_count": null,
   "metadata": {
    "id": "zc-Ddf3woUNr"
   },
   "outputs": [],
   "source": []
  },
  {
   "cell_type": "code",
   "execution_count": null,
   "metadata": {
    "id": "R3mxIgm1oUKu"
   },
   "outputs": [],
   "source": []
  },
  {
   "cell_type": "code",
   "execution_count": null,
   "metadata": {
    "id": "HYpJ74vHoUIA"
   },
   "outputs": [],
   "source": []
  },
  {
   "cell_type": "code",
   "execution_count": null,
   "metadata": {
    "id": "UokrjibpoUFZ"
   },
   "outputs": [],
   "source": []
  },
  {
   "cell_type": "code",
   "execution_count": null,
   "metadata": {
    "id": "2eUjzJPSoUCY"
   },
   "outputs": [],
   "source": []
  },
  {
   "cell_type": "code",
   "execution_count": null,
   "metadata": {
    "id": "TmbxP9BOoT_d"
   },
   "outputs": [],
   "source": []
  },
  {
   "cell_type": "code",
   "execution_count": null,
   "metadata": {
    "id": "s8H5egoyoT6X"
   },
   "outputs": [],
   "source": []
  },
  {
   "cell_type": "code",
   "execution_count": null,
   "metadata": {
    "id": "I6dp2Q8toT31"
   },
   "outputs": [],
   "source": []
  },
  {
   "cell_type": "code",
   "execution_count": null,
   "metadata": {
    "id": "wAXZaFpooTx6"
   },
   "outputs": [],
   "source": []
  },
  {
   "cell_type": "code",
   "execution_count": null,
   "metadata": {
    "id": "t_8Fjj2Uvv1Z"
   },
   "outputs": [],
   "source": []
  },
  {
   "cell_type": "code",
   "execution_count": null,
   "metadata": {
    "id": "A4nEk02Ivvy3"
   },
   "outputs": [],
   "source": []
  },
  {
   "cell_type": "code",
   "execution_count": null,
   "metadata": {
    "id": "drxCjKcRvvu8"
   },
   "outputs": [],
   "source": []
  }
 ],
 "metadata": {
  "accelerator": "GPU",
  "colab": {
   "gpuType": "T4",
   "provenance": [],
   "toc_visible": true
  },
  "kernelspec": {
   "display_name": "Python 3 (ipykernel)",
   "language": "python",
   "name": "python3"
  },
  "language_info": {
   "codemirror_mode": {
    "name": "ipython",
    "version": 3
   },
   "file_extension": ".py",
   "mimetype": "text/x-python",
   "name": "python",
   "nbconvert_exporter": "python",
   "pygments_lexer": "ipython3",
   "version": "3.11.7"
  }
 },
 "nbformat": 4,
 "nbformat_minor": 4
}
